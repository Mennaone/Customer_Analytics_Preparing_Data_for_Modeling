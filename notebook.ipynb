{
 "cells": [
  {
   "cell_type": "markdown",
   "id": "a09e6d54-bf3f-4632-b299-bd49d5c80d5f",
   "metadata": {},
   "source": [
    "\n",
    "A common problem when creating models to generate business value from data is that the datasets can be so large that it can take days for the model to generate predictions. Ensuring that your dataset is stored as efficiently as possible is crucial for allowing these models to run on a more reasonable timescale without having to reduce the size of the dataset.\n",
    "\n",
    "You've been hired by a major online data science training provider called *Training Data Ltd.* to clean up one of their largest customer datasets. This dataset will eventually be used to predict whether their students are looking for a new job or not, information that they will then use to direct them to prospective recruiters.\n",
    "\n",
    "You've been given access to `customer_train.csv`, which is a subset of their entire customer dataset, so you can create a proof-of-concept of a much more efficient storage solution. The dataset contains anonymized student information, and whether they were looking for a new job or not during training:\n",
    "\n",
    "| Column                   | Description                                                                      |\n",
    "|------------------------- |--------------------------------------------------------------------------------- |\n",
    "| `student_id`             | A unique ID for each student.                                                    |\n",
    "| `city`                   | A code for the city the student lives in.                                        |\n",
    "| `city_development_index` | A scaled development index for the city.                                         |\n",
    "| `gender`                 | The student's gender.                                                            |\n",
    "| `relevant_experience`    | An indicator of the student's work relevant experience.                          |\n",
    "| `enrolled_university`    | The type of university course enrolled in (if any).                              |\n",
    "| `education_level`        | The student's education level.                                                   |\n",
    "| `major_discipline`       | The educational discipline of the student.                                       |\n",
    "| `experience`             | The student's total work experience (in years).                                  |\n",
    "| `company_size`           | The number of employees at the student's current employer.                       |\n",
    "| `company_type`           | The type of company employing the student.                                       |\n",
    "| `last_new_job`           | The number of years between the student's current and previous jobs.             |\n",
    "| `training_hours`         | The number of hours of training completed.                                       |\n",
    "| `job_change`             | An indicator of whether the student is looking for a new job (`1`) or not (`0`). |"
   ]
  },
  {
   "cell_type": "code",
   "execution_count": 30,
   "id": "eda9c1b2-4e9a-41ac-8da6-d4c98775f986",
   "metadata": {
    "executionCancelledAt": null,
    "executionTime": null,
    "lastExecutedAt": null,
    "lastExecutedByKernel": null,
    "lastScheduledRunId": null,
    "lastSuccessfullyExecutedCode": null,
    "outputsMetadata": {
     "0": {
      "height": 265,
      "type": "dataFrame"
     }
    }
   },
   "outputs": [
    {
     "data": {
      "application/com.datacamp.data-table.v2+json": {
       "table": {
        "data": {
         "city": [
          "city_103",
          "city_40",
          "city_21",
          "city_115",
          "city_162"
         ],
         "city_development_index": [
          0.92,
          0.776,
          0.624,
          0.789,
          0.767
         ],
         "company_size": [
          null,
          "50-99",
          null,
          null,
          "50-99"
         ],
         "company_type": [
          null,
          "Pvt Ltd",
          null,
          "Pvt Ltd",
          "Funded Startup"
         ],
         "education_level": [
          "Graduate",
          "Graduate",
          "Graduate",
          "Graduate",
          "Masters"
         ],
         "enrolled_university": [
          "no_enrollment",
          "no_enrollment",
          "Full time course",
          null,
          "no_enrollment"
         ],
         "experience": [
          ">20",
          "15",
          "5",
          "<1",
          ">20"
         ],
         "gender": [
          "Male",
          "Male",
          null,
          null,
          "Male"
         ],
         "index": [
          0,
          1,
          2,
          3,
          4
         ],
         "job_change": [
          1,
          0,
          0,
          1,
          0
         ],
         "last_new_job": [
          "1",
          ">4",
          "never",
          "never",
          "4"
         ],
         "major_discipline": [
          "STEM",
          "STEM",
          "STEM",
          "Business Degree",
          "STEM"
         ],
         "relevant_experience": [
          "Has relevant experience",
          "No relevant experience",
          "No relevant experience",
          "No relevant experience",
          "Has relevant experience"
         ],
         "student_id": [
          8949,
          29725,
          11561,
          33241,
          666
         ],
         "training_hours": [
          36,
          47,
          83,
          52,
          8
         ]
        },
        "schema": {
         "fields": [
          {
           "name": "index",
           "type": "integer"
          },
          {
           "name": "student_id",
           "type": "integer"
          },
          {
           "name": "city",
           "type": "string"
          },
          {
           "name": "city_development_index",
           "type": "number"
          },
          {
           "name": "gender",
           "type": "string"
          },
          {
           "name": "relevant_experience",
           "type": "string"
          },
          {
           "name": "enrolled_university",
           "type": "string"
          },
          {
           "name": "education_level",
           "type": "string"
          },
          {
           "name": "major_discipline",
           "type": "string"
          },
          {
           "name": "experience",
           "type": "string"
          },
          {
           "name": "company_size",
           "type": "string"
          },
          {
           "name": "company_type",
           "type": "string"
          },
          {
           "name": "last_new_job",
           "type": "string"
          },
          {
           "name": "training_hours",
           "type": "integer"
          },
          {
           "name": "job_change",
           "type": "number"
          }
         ],
         "pandas_version": "1.4.0",
         "primaryKey": [
          "index"
         ]
        }
       },
       "total_rows": 5,
       "truncation_type": null
      },
      "text/html": [
       "<div>\n",
       "<style scoped>\n",
       "    .dataframe tbody tr th:only-of-type {\n",
       "        vertical-align: middle;\n",
       "    }\n",
       "\n",
       "    .dataframe tbody tr th {\n",
       "        vertical-align: top;\n",
       "    }\n",
       "\n",
       "    .dataframe thead th {\n",
       "        text-align: right;\n",
       "    }\n",
       "</style>\n",
       "<table border=\"1\" class=\"dataframe\">\n",
       "  <thead>\n",
       "    <tr style=\"text-align: right;\">\n",
       "      <th></th>\n",
       "      <th>student_id</th>\n",
       "      <th>city</th>\n",
       "      <th>city_development_index</th>\n",
       "      <th>gender</th>\n",
       "      <th>relevant_experience</th>\n",
       "      <th>enrolled_university</th>\n",
       "      <th>education_level</th>\n",
       "      <th>major_discipline</th>\n",
       "      <th>experience</th>\n",
       "      <th>company_size</th>\n",
       "      <th>company_type</th>\n",
       "      <th>last_new_job</th>\n",
       "      <th>training_hours</th>\n",
       "      <th>job_change</th>\n",
       "    </tr>\n",
       "  </thead>\n",
       "  <tbody>\n",
       "    <tr>\n",
       "      <th>0</th>\n",
       "      <td>8949</td>\n",
       "      <td>city_103</td>\n",
       "      <td>0.920</td>\n",
       "      <td>Male</td>\n",
       "      <td>Has relevant experience</td>\n",
       "      <td>no_enrollment</td>\n",
       "      <td>Graduate</td>\n",
       "      <td>STEM</td>\n",
       "      <td>&gt;20</td>\n",
       "      <td>NaN</td>\n",
       "      <td>NaN</td>\n",
       "      <td>1</td>\n",
       "      <td>36</td>\n",
       "      <td>1.0</td>\n",
       "    </tr>\n",
       "    <tr>\n",
       "      <th>1</th>\n",
       "      <td>29725</td>\n",
       "      <td>city_40</td>\n",
       "      <td>0.776</td>\n",
       "      <td>Male</td>\n",
       "      <td>No relevant experience</td>\n",
       "      <td>no_enrollment</td>\n",
       "      <td>Graduate</td>\n",
       "      <td>STEM</td>\n",
       "      <td>15</td>\n",
       "      <td>50-99</td>\n",
       "      <td>Pvt Ltd</td>\n",
       "      <td>&gt;4</td>\n",
       "      <td>47</td>\n",
       "      <td>0.0</td>\n",
       "    </tr>\n",
       "    <tr>\n",
       "      <th>2</th>\n",
       "      <td>11561</td>\n",
       "      <td>city_21</td>\n",
       "      <td>0.624</td>\n",
       "      <td>NaN</td>\n",
       "      <td>No relevant experience</td>\n",
       "      <td>Full time course</td>\n",
       "      <td>Graduate</td>\n",
       "      <td>STEM</td>\n",
       "      <td>5</td>\n",
       "      <td>NaN</td>\n",
       "      <td>NaN</td>\n",
       "      <td>never</td>\n",
       "      <td>83</td>\n",
       "      <td>0.0</td>\n",
       "    </tr>\n",
       "    <tr>\n",
       "      <th>3</th>\n",
       "      <td>33241</td>\n",
       "      <td>city_115</td>\n",
       "      <td>0.789</td>\n",
       "      <td>NaN</td>\n",
       "      <td>No relevant experience</td>\n",
       "      <td>NaN</td>\n",
       "      <td>Graduate</td>\n",
       "      <td>Business Degree</td>\n",
       "      <td>&lt;1</td>\n",
       "      <td>NaN</td>\n",
       "      <td>Pvt Ltd</td>\n",
       "      <td>never</td>\n",
       "      <td>52</td>\n",
       "      <td>1.0</td>\n",
       "    </tr>\n",
       "    <tr>\n",
       "      <th>4</th>\n",
       "      <td>666</td>\n",
       "      <td>city_162</td>\n",
       "      <td>0.767</td>\n",
       "      <td>Male</td>\n",
       "      <td>Has relevant experience</td>\n",
       "      <td>no_enrollment</td>\n",
       "      <td>Masters</td>\n",
       "      <td>STEM</td>\n",
       "      <td>&gt;20</td>\n",
       "      <td>50-99</td>\n",
       "      <td>Funded Startup</td>\n",
       "      <td>4</td>\n",
       "      <td>8</td>\n",
       "      <td>0.0</td>\n",
       "    </tr>\n",
       "  </tbody>\n",
       "</table>\n",
       "</div>"
      ],
      "text/plain": [
       "   student_id      city  ...  training_hours job_change\n",
       "0        8949  city_103  ...              36        1.0\n",
       "1       29725   city_40  ...              47        0.0\n",
       "2       11561   city_21  ...              83        0.0\n",
       "3       33241  city_115  ...              52        1.0\n",
       "4         666  city_162  ...               8        0.0\n",
       "\n",
       "[5 rows x 14 columns]"
      ]
     },
     "execution_count": 30,
     "metadata": {},
     "output_type": "execute_result"
    }
   ],
   "source": [
    "# Import necessary libraries\n",
    "import pandas as pd\n",
    "\n",
    "# Load the dataset\n",
    "ds_jobs = pd.read_csv(\"customer_train.csv\")\n",
    "\n",
    "# View the dataset\n",
    "ds_jobs.head()"
   ]
  },
  {
   "cell_type": "code",
   "execution_count": 31,
   "id": "13757e62-aca2-48f4-b569-a838af11bdd5",
   "metadata": {
    "executionCancelledAt": null,
    "executionTime": 50,
    "lastExecutedAt": 1727962773682,
    "lastExecutedByKernel": "e38eed20-b90c-456a-83e2-c1131bc4dbe2",
    "lastScheduledRunId": null,
    "lastSuccessfullyExecutedCode": "# Create a copy of ds_jobs for transforming\nds_jobs_transformed = ds_jobs.copy()\n\n# Start coding here. Use as many cells as you like!\nds_jobs_transformed.info()",
    "outputsMetadata": {
     "0": {
      "height": 458,
      "type": "stream"
     }
    }
   },
   "outputs": [
    {
     "name": "stdout",
     "output_type": "stream",
     "text": [
      "<class 'pandas.core.frame.DataFrame'>\n",
      "RangeIndex: 19158 entries, 0 to 19157\n",
      "Data columns (total 14 columns):\n",
      " #   Column                  Non-Null Count  Dtype  \n",
      "---  ------                  --------------  -----  \n",
      " 0   student_id              19158 non-null  int64  \n",
      " 1   city                    19158 non-null  object \n",
      " 2   city_development_index  19158 non-null  float64\n",
      " 3   gender                  14650 non-null  object \n",
      " 4   relevant_experience     19158 non-null  object \n",
      " 5   enrolled_university     18772 non-null  object \n",
      " 6   education_level         18698 non-null  object \n",
      " 7   major_discipline        16345 non-null  object \n",
      " 8   experience              19093 non-null  object \n",
      " 9   company_size            13220 non-null  object \n",
      " 10  company_type            13018 non-null  object \n",
      " 11  last_new_job            18735 non-null  object \n",
      " 12  training_hours          19158 non-null  int64  \n",
      " 13  job_change              19158 non-null  float64\n",
      "dtypes: float64(2), int64(2), object(10)\n",
      "memory usage: 2.0+ MB\n"
     ]
    }
   ],
   "source": [
    "# Create a copy of ds_jobs for transforming\n",
    "ds_jobs_transformed = ds_jobs.copy()\n",
    "\n",
    "# Start coding here. Use as many cells as you like!\n",
    "ds_jobs_transformed.info()"
   ]
  },
  {
   "cell_type": "code",
   "execution_count": 32,
   "id": "1f687557-785c-46d6-8e18-e3a38ba99d80",
   "metadata": {
    "executionCancelledAt": null,
    "executionTime": 60,
    "lastExecutedAt": 1727962773742,
    "lastExecutedByKernel": "e38eed20-b90c-456a-83e2-c1131bc4dbe2",
    "lastScheduledRunId": null,
    "lastSuccessfullyExecutedCode": "# Explore Object volumns and their value\nfor c in ds_jobs.select_dtypes('object').columns:\n    print (c,'\\n',ds_jobs[c].value_counts(),'\\n')\n    ",
    "outputsMetadata": {
     "0": {
      "height": 606,
      "type": "stream"
     }
    }
   },
   "outputs": [
    {
     "name": "stdout",
     "output_type": "stream",
     "text": [
      "city \n",
      " city_103    4355\n",
      "city_21     2702\n",
      "city_16     1533\n",
      "city_114    1336\n",
      "city_160     845\n",
      "            ... \n",
      "city_129       3\n",
      "city_111       3\n",
      "city_121       3\n",
      "city_140       1\n",
      "city_171       1\n",
      "Name: city, Length: 123, dtype: int64 \n",
      "\n",
      "gender \n",
      " Male      13221\n",
      "Female     1238\n",
      "Other       191\n",
      "Name: gender, dtype: int64 \n",
      "\n",
      "relevant_experience \n",
      " Has relevant experience    13792\n",
      "No relevant experience      5366\n",
      "Name: relevant_experience, dtype: int64 \n",
      "\n",
      "enrolled_university \n",
      " no_enrollment       13817\n",
      "Full time course     3757\n",
      "Part time course     1198\n",
      "Name: enrolled_university, dtype: int64 \n",
      "\n",
      "education_level \n",
      " Graduate          11598\n",
      "Masters            4361\n",
      "High School        2017\n",
      "Phd                 414\n",
      "Primary School      308\n",
      "Name: education_level, dtype: int64 \n",
      "\n",
      "major_discipline \n",
      " STEM               14492\n",
      "Humanities           669\n",
      "Other                381\n",
      "Business Degree      327\n",
      "Arts                 253\n",
      "No Major             223\n",
      "Name: major_discipline, dtype: int64 \n",
      "\n",
      "experience \n",
      " >20    3286\n",
      "5      1430\n",
      "4      1403\n",
      "3      1354\n",
      "6      1216\n",
      "2      1127\n",
      "7      1028\n",
      "10      985\n",
      "9       980\n",
      "8       802\n",
      "15      686\n",
      "11      664\n",
      "14      586\n",
      "1       549\n",
      "<1      522\n",
      "16      508\n",
      "12      494\n",
      "13      399\n",
      "17      342\n",
      "19      304\n",
      "18      280\n",
      "20      148\n",
      "Name: experience, dtype: int64 \n",
      "\n",
      "company_size \n",
      " 50-99        3083\n",
      "100-499      2571\n",
      "10000+       2019\n",
      "10-49        1471\n",
      "1000-4999    1328\n",
      "<10          1308\n",
      "500-999       877\n",
      "5000-9999     563\n",
      "Name: company_size, dtype: int64 \n",
      "\n",
      "company_type \n",
      " Pvt Ltd                9817\n",
      "Funded Startup         1001\n",
      "Public Sector           955\n",
      "Early Stage Startup     603\n",
      "NGO                     521\n",
      "Other                   121\n",
      "Name: company_type, dtype: int64 \n",
      "\n",
      "last_new_job \n",
      " 1        8040\n",
      ">4       3290\n",
      "2        2900\n",
      "never    2452\n",
      "4        1029\n",
      "3        1024\n",
      "Name: last_new_job, dtype: int64 \n",
      "\n"
     ]
    }
   ],
   "source": [
    "# Explore Object volumns and their value\n",
    "for c in ds_jobs.select_dtypes('object').columns:\n",
    "    print (c,'\\n',ds_jobs[c].value_counts(),'\\n')\n",
    "    "
   ]
  },
  {
   "cell_type": "code",
   "execution_count": null,
   "id": "1a7c9e8f-4ec4-40a5-bb16-cda625594f1f",
   "metadata": {
    "executionCancelledAt": null,
    "executionTime": 48,
    "lastExecutedAt": 1727962773790,
    "lastExecutedByKernel": "e38eed20-b90c-456a-83e2-c1131bc4dbe2",
    "lastScheduledRunId": null,
    "lastSuccessfullyExecutedCode": "# dictionary for Categories with only 2 facctors update to bool\ntwo_values_categories = {\n    'relevant_experience': {'Has relevant experience': True, 'No relevant experience': False},\n    'job_change': {1.0: True ,0.0: False}\n}\n\n# Make Columns containing ordinal categorical data an order category\norder_categories ={\n    'enrolled_university': ['no_enrollment','Part time course','Full time course'],\n    'education_level': ['Prmary School', 'High School','Graduate','Masters','Phd'],\n    'experience': ['<1'] + list(map(str,range(1,21))) + ['>20'],\n    'company_size': ['<10', '10_49','50-99','100-499','500-999','1000-4999','5000-9999','10000+'],\n    'last_new_job': ['never','1','2','3','4','>4']\n}\n"
   },
   "outputs": [],
   "source": [
    "# dictionary for Categories with only 2 factors update to bool\n",
    "two_values_categories = {\n",
    "    'relevant_experience': {'Has relevant experience': True, 'No relevant experience': False},\n",
    "    'job_change': {1.0: True ,0.0: False}\n",
    "}\n",
    "\n",
    "# Make Columns containing ordinal categorical data an order category\n",
    "order_categories ={\n",
    "    'enrolled_university': ['no_enrollment','Part time course','Full time course'],\n",
    "    'education_level': ['Prmary School', 'High School','Graduate','Masters','Phd'],\n",
    "    'experience': ['<1'] + list(map(str,range(1,21))) + ['>20'],\n",
    "    'company_size': ['<10', '10_49','50-99','100-499','500-999','1000-4999','5000-9999','10000+'],\n",
    "    'last_new_job': ['never','1','2','3','4','>4']\n",
    "}\n"
   ]
  },
  {
   "cell_type": "code",
   "execution_count": 34,
   "id": "dbc3a965-9ae5-43a7-bd4d-6ceba60be622",
   "metadata": {
    "executionCancelledAt": null,
    "executionTime": 52,
    "lastExecutedAt": 1727962773842,
    "lastExecutedByKernel": "e38eed20-b90c-456a-83e2-c1131bc4dbe2",
    "lastScheduledRunId": null,
    "lastSuccessfullyExecutedCode": "# Change the data types to the professional types\nfor c in ds_jobs_transformed:\n\n    # Columns containing categories with only two factors must be stored as Booleans\n    if c in ['relevant_experience','job_change']:\n        ds_jobs_transformed[c] = ds_jobs_transformed[c].map(two_values_categories[c])\n        \n    # Columns containing integers only must be stored as 32-bit integers\n    elif c in ['student_id','training_hours']:\n        ds_jobs_transformed[c] = ds_jobs_transformed[c].astype('int32')\n        \n    # Columns containing floats must be stored as 16-bit floats\n    elif c == 'city_development_index':\n        ds_jobs_transformed[c] = ds_jobs_transformed[c].astype('float16')\n        \n    # Columns containing ordinal categorical data must be stored as ordered categories, and not mapped to               numerical values, with an order that reflects the natural order of the column\n    elif c in order_categories.keys():\n        category = pd.CategoricalDtype(order_categories[c], ordered=True)\n        ds_jobs_transformed[c] = ds_jobs_transformed[c].astype(category)\n        \n    # Columns containing nominal categorical data must be stored as the category\n    else:\n        ds_jobs_transformed[c] = ds_jobs_transformed[c].astype('category')\n        "
   },
   "outputs": [],
   "source": [
    "# Change the data types to the professional types\n",
    "for c in ds_jobs_transformed:\n",
    "\n",
    "    # Columns containing categories with only two factors must be stored as Booleans\n",
    "    if c in ['relevant_experience','job_change']:\n",
    "        ds_jobs_transformed[c] = ds_jobs_transformed[c].map(two_values_categories[c])\n",
    "        \n",
    "    # Columns containing integers only must be stored as 32-bit integers\n",
    "    elif c in ['student_id','training_hours']:\n",
    "        ds_jobs_transformed[c] = ds_jobs_transformed[c].astype('int32')\n",
    "        \n",
    "    # Columns containing floats must be stored as 16-bit floats\n",
    "    elif c == 'city_development_index':\n",
    "        ds_jobs_transformed[c] = ds_jobs_transformed[c].astype('float16')\n",
    "        \n",
    "    # Columns containing ordinal categorical data must be stored as ordered categories, and not mapped to               numerical values, with an order that reflects the natural order of the column\n",
    "    elif c in order_categories.keys():\n",
    "        category = pd.CategoricalDtype(order_categories[c], ordered=True)\n",
    "        ds_jobs_transformed[c] = ds_jobs_transformed[c].astype(category)\n",
    "        \n",
    "    # Columns containing nominal categorical data must be stored as the category\n",
    "    else:\n",
    "        ds_jobs_transformed[c] = ds_jobs_transformed[c].astype('category')\n",
    "        "
   ]
  },
  {
   "cell_type": "code",
   "execution_count": 35,
   "id": "e4f06d58-5f5f-4169-bd7f-9890e4a37e4e",
   "metadata": {
    "executionCancelledAt": null,
    "executionTime": 48,
    "lastExecutedAt": 1727962773890,
    "lastExecutedByKernel": "e38eed20-b90c-456a-83e2-c1131bc4dbe2",
    "lastScheduledRunId": null,
    "lastSuccessfullyExecutedCode": "# filtered to only contain students with >=10 of experience at companies with at least 1000 employees\nds_jobs_transformed = ds_jobs_transformed[(ds_jobs_transformed['experience'] >= '10' ) & (ds_jobs_transformed['company_size'] >= '1000-4999')]\n\nprint(ds_jobs_transformed)",
    "outputsMetadata": {
     "0": {
      "height": 311,
      "type": "stream"
     }
    }
   },
   "outputs": [
    {
     "name": "stdout",
     "output_type": "stream",
     "text": [
      "       student_id      city  ...  training_hours job_change\n",
      "9             699  city_103  ...             123      False\n",
      "12          25619   city_61  ...              23      False\n",
      "31          22293  city_103  ...             141      False\n",
      "34          26494   city_16  ...             145      False\n",
      "40           2547  city_114  ...              14      False\n",
      "...           ...       ...  ...             ...        ...\n",
      "19097       25447  city_103  ...              57      False\n",
      "19101        6803   city_16  ...              89      False\n",
      "19103       32932   city_10  ...              18      False\n",
      "19128        3365   city_16  ...              23      False\n",
      "19143       33047  city_103  ...              18      False\n",
      "\n",
      "[2201 rows x 14 columns]\n"
     ]
    }
   ],
   "source": [
    "# filtered to only contain students with >=10 of experience at companies with at least 1000 employees\n",
    "ds_jobs_transformed = ds_jobs_transformed[(ds_jobs_transformed['experience'] >= '10' ) & (ds_jobs_transformed['company_size'] >= '1000-4999')]\n",
    "\n",
    "print(ds_jobs_transformed)"
   ]
  },
  {
   "cell_type": "code",
   "execution_count": 36,
   "id": "73e99d27-a200-4cca-8ca8-e4b1301db7d5",
   "metadata": {
    "executionCancelledAt": null,
    "executionTime": 54,
    "lastExecutedAt": 1727962773944,
    "lastExecutedByKernel": "e38eed20-b90c-456a-83e2-c1131bc4dbe2",
    "lastScheduledRunId": null,
    "lastSuccessfullyExecutedCode": "# Explore our data after  changement\nds_jobs_transformed.info()",
    "outputsMetadata": {
     "0": {
      "height": 458,
      "type": "stream"
     }
    }
   },
   "outputs": [
    {
     "name": "stdout",
     "output_type": "stream",
     "text": [
      "<class 'pandas.core.frame.DataFrame'>\n",
      "Int64Index: 2201 entries, 9 to 19143\n",
      "Data columns (total 14 columns):\n",
      " #   Column                  Non-Null Count  Dtype   \n",
      "---  ------                  --------------  -----   \n",
      " 0   student_id              2201 non-null   int32   \n",
      " 1   city                    2201 non-null   category\n",
      " 2   city_development_index  2201 non-null   float16 \n",
      " 3   gender                  1821 non-null   category\n",
      " 4   relevant_experience     2201 non-null   bool    \n",
      " 5   enrolled_university     2185 non-null   category\n",
      " 6   education_level         2177 non-null   category\n",
      " 7   major_discipline        2097 non-null   category\n",
      " 8   experience              2201 non-null   category\n",
      " 9   company_size            2201 non-null   category\n",
      " 10  company_type            2144 non-null   category\n",
      " 11  last_new_job            2184 non-null   category\n",
      " 12  training_hours          2201 non-null   int32   \n",
      " 13  job_change              2201 non-null   bool    \n",
      "dtypes: bool(2), category(9), float16(1), int32(2)\n",
      "memory usage: 69.5 KB\n"
     ]
    }
   ],
   "source": [
    "# Explore our data after  changement\n",
    "ds_jobs_transformed.info()"
   ]
  },
  {
   "cell_type": "code",
   "execution_count": 37,
   "id": "82570dc7-856d-42e5-8b51-a22873be5481",
   "metadata": {
    "executionCancelledAt": null,
    "executionTime": null,
    "lastExecutedAt": null,
    "lastExecutedByKernel": null,
    "lastScheduledRunId": null,
    "lastSuccessfullyExecutedCode": null,
    "outputsMetadata": {
     "0": {
      "height": 528,
      "type": "dataFrame"
     },
     "1": {
      "height": 501,
      "type": "dataFrame"
     }
    }
   },
   "outputs": [
    {
     "data": {
      "application/com.datacamp.data-table.v2+json": {
       "table": {
        "data": {
         "0": [
          128,
          153264,
          153264,
          153264,
          153264,
          153264,
          153264,
          153264,
          153264,
          153264,
          153264,
          153264,
          153264,
          153264,
          153264
         ],
         "index": [
          "Index",
          "student_id",
          "city",
          "city_development_index",
          "gender",
          "relevant_experience",
          "enrolled_university",
          "education_level",
          "major_discipline",
          "experience",
          "company_size",
          "company_type",
          "last_new_job",
          "training_hours",
          "job_change"
         ]
        },
        "schema": {
         "fields": [
          {
           "name": "index",
           "type": "string"
          },
          {
           "name": "0",
           "type": "integer"
          }
         ],
         "pandas_version": "1.4.0",
         "primaryKey": [
          "index"
         ]
        }
       },
       "total_rows": 15,
       "truncation_type": null
      },
      "text/plain": [
       "Index                        128\n",
       "student_id                153264\n",
       "city                      153264\n",
       "city_development_index    153264\n",
       "gender                    153264\n",
       "relevant_experience       153264\n",
       "enrolled_university       153264\n",
       "education_level           153264\n",
       "major_discipline          153264\n",
       "experience                153264\n",
       "company_size              153264\n",
       "company_type              153264\n",
       "last_new_job              153264\n",
       "training_hours            153264\n",
       "job_change                153264\n",
       "dtype: int64"
      ]
     },
     "execution_count": 37,
     "metadata": {},
     "output_type": "execute_result"
    }
   ],
   "source": [
    "# check menory usage for original data set\n",
    "ds_jobs.memory_usage()"
   ]
  },
  {
   "cell_type": "code",
   "execution_count": 38,
   "id": "6e932ae2-7562-4421-8cba-f463fc355ba5",
   "metadata": {
    "executionCancelledAt": null,
    "executionTime": null,
    "lastExecutedAt": null,
    "lastExecutedByKernel": null,
    "lastScheduledRunId": null,
    "lastSuccessfullyExecutedCode": null,
    "outputsMetadata": {
     "0": {
      "height": 528,
      "type": "dataFrame"
     }
    }
   },
   "outputs": [
    {
     "data": {
      "application/com.datacamp.data-table.v2+json": {
       "table": {
        "data": {
         "0": [
          17608,
          8804,
          7353,
          4402,
          2333,
          2201,
          2333,
          2413,
          2421,
          2933,
          2565,
          2421,
          2421,
          8804,
          2201
         ],
         "index": [
          "Index",
          "student_id",
          "city",
          "city_development_index",
          "gender",
          "relevant_experience",
          "enrolled_university",
          "education_level",
          "major_discipline",
          "experience",
          "company_size",
          "company_type",
          "last_new_job",
          "training_hours",
          "job_change"
         ]
        },
        "schema": {
         "fields": [
          {
           "name": "index",
           "type": "string"
          },
          {
           "name": "0",
           "type": "integer"
          }
         ],
         "pandas_version": "1.4.0",
         "primaryKey": [
          "index"
         ]
        }
       },
       "total_rows": 15,
       "truncation_type": null
      },
      "text/plain": [
       "Index                     17608\n",
       "student_id                 8804\n",
       "city                       7353\n",
       "city_development_index     4402\n",
       "gender                     2333\n",
       "relevant_experience        2201\n",
       "enrolled_university        2333\n",
       "education_level            2413\n",
       "major_discipline           2421\n",
       "experience                 2933\n",
       "company_size               2565\n",
       "company_type               2421\n",
       "last_new_job               2421\n",
       "training_hours             8804\n",
       "job_change                 2201\n",
       "dtype: int64"
      ]
     },
     "execution_count": 38,
     "metadata": {},
     "output_type": "execute_result"
    }
   ],
   "source": [
    "# check menory usage for original data set\n",
    "ds_jobs_transformed.memory_usage()"
   ]
  }
 ],
 "metadata": {
  "editor": "DataLab",
  "kernelspec": {
   "display_name": "Python 3 (ipykernel)",
   "language": "python",
   "name": "python3"
  },
  "language_info": {
   "codemirror_mode": {
    "name": "ipython",
    "version": 3
   },
   "file_extension": ".py",
   "mimetype": "text/x-python",
   "name": "python",
   "nbconvert_exporter": "python",
   "pygments_lexer": "ipython3",
   "version": "3.8.10"
  }
 },
 "nbformat": 4,
 "nbformat_minor": 5
}
